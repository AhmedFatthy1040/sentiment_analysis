{
 "cells": [
  {
   "cell_type": "markdown",
   "id": "9b115ea9",
   "metadata": {},
   "source": [
    "# Sentiment Analysis with RNN\n",
    "\n",
    "This notebook demonstrates how to build, train and evaluate a sentiment analysis model using Recurrent Neural Networks (RNN).\n",
    "\n",
    "We'll be using the IMDB movie reviews dataset for training our model to classify text as positive or negative."
   ]
  },
  {
   "cell_type": "markdown",
   "id": "6852e6cf",
   "metadata": {},
   "source": [
    "## Setup and Import Libraries"
   ]
  },
  {
   "cell_type": "code",
   "execution_count": 1,
   "id": "9c76732f",
   "metadata": {},
   "outputs": [],
   "source": [
    "# Install required libraries if needed\n",
    "# !pip install tensorflow numpy pandas matplotlib nltk tqdm scikit-learn seaborn"
   ]
  },
  {
   "cell_type": "code",
   "execution_count": 2,
   "id": "bb27fb35",
   "metadata": {},
   "outputs": [
    {
     "name": "stdout",
     "output_type": "stream",
     "text": [
      "TensorFlow version: 2.19.0\n"
     ]
    }
   ],
   "source": [
    "import numpy as np\n",
    "import pandas as pd\n",
    "import matplotlib.pyplot as plt\n",
    "import tensorflow as tf\n",
    "from tensorflow.keras.preprocessing.text import Tokenizer\n",
    "from tensorflow.keras.preprocessing.sequence import pad_sequences\n",
    "from tensorflow.keras.models import Sequential\n",
    "from tensorflow.keras.layers import Embedding, LSTM, Bidirectional, Dense, Dropout, GRU\n",
    "from tensorflow.keras.callbacks import EarlyStopping, ModelCheckpoint\n",
    "from sklearn.model_selection import train_test_split\n",
    "from sklearn.metrics import confusion_matrix, classification_report\n",
    "import seaborn as sns\n",
    "\n",
    "# Check TensorFlow version\n",
    "print(f\"TensorFlow version: {tf.__version__}\")\n",
    "\n",
    "# Set random seeds for reproducibility\n",
    "np.random.seed(42)\n",
    "tf.random.set_seed(42)"
   ]
  },
  {
   "cell_type": "markdown",
   "id": "9e2e601e",
   "metadata": {},
   "source": [
    "## Data Loading and Preprocessing\n",
    "\n",
    "We'll load the IMDB dataset which contains 50,000 movie reviews labeled as positive or negative."
   ]
  },
  {
   "cell_type": "code",
   "execution_count": 3,
   "id": "239d4c42",
   "metadata": {},
   "outputs": [],
   "source": [
    "def load_imdb_dataset(max_features=10000, max_len=200):\n",
    "    \"\"\"\n",
    "    Load the IMDB dataset for sentiment analysis.\n",
    "    \n",
    "    Args:\n",
    "        max_features: Maximum number of words to consider in the vocabulary\n",
    "        max_len: Maximum length of sequences\n",
    "        \n",
    "    Returns:\n",
    "        X_train, X_val, y_train, y_val, tokenizer\n",
    "    \"\"\"\n",
    "    # Download the IMDB dataset\n",
    "    print(\"Loading IMDB dataset...\")\n",
    "    (x_train_raw, y_train), (x_test_raw, y_test) = tf.keras.datasets.imdb.load_data(\n",
    "        num_words=max_features\n",
    "    )\n",
    "    \n",
    "    # Combine training and test data for custom split\n",
    "    x_data = np.concatenate([x_train_raw, x_test_raw])\n",
    "    y_data = np.concatenate([y_train, y_test])\n",
    "    \n",
    "    # Get word index mapping\n",
    "    word_index = tf.keras.datasets.imdb.get_word_index()\n",
    "    \n",
    "    # Create a reverse mapping\n",
    "    reverse_word_index = {i+3: word for word, i in word_index.items()}\n",
    "    reverse_word_index[0] = '<PAD>'\n",
    "    reverse_word_index[1] = '<START>'\n",
    "    reverse_word_index[2] = '<UNK>'\n",
    "    \n",
    "    # Convert integer sequences back to text\n",
    "    def decode_review(encoded_text):\n",
    "        return ' '.join([reverse_word_index.get(i, '?') for i in encoded_text])\n",
    "    \n",
    "    # Convert all reviews back to text\n",
    "    print(\"Converting reviews to text...\")\n",
    "    texts = [decode_review(x) for x in x_data]\n",
    "    \n",
    "    # Split into training and validation sets\n",
    "    X_train, X_val, y_train, y_val = train_test_split(\n",
    "        texts, y_data, test_size=0.2, random_state=42\n",
    "    )\n",
    "    \n",
    "    # Create a new tokenizer\n",
    "    tokenizer = Tokenizer(num_words=max_features)\n",
    "    tokenizer.fit_on_texts(X_train)\n",
    "    \n",
    "    # Convert text to sequences\n",
    "    X_train_seq = tokenizer.texts_to_sequences(X_train)\n",
    "    X_val_seq = tokenizer.texts_to_sequences(X_val)\n",
    "    \n",
    "    # Pad sequences to ensure uniform input length\n",
    "    X_train_pad = pad_sequences(X_train_seq, maxlen=max_len)\n",
    "    X_val_pad = pad_sequences(X_val_seq, maxlen=max_len)\n",
    "    \n",
    "    print(f\"Vocabulary size: {len(tokenizer.word_index)}\")\n",
    "    print(f\"Training data shape: {X_train_pad.shape}\")\n",
    "    print(f\"Validation data shape: {X_val_pad.shape}\")\n",
    "    \n",
    "    return X_train_pad, X_val_pad, y_train, y_val, tokenizer, X_train, X_val"
   ]
  },
  {
   "cell_type": "code",
   "execution_count": 4,
   "id": "2cb6e3bf",
   "metadata": {},
   "outputs": [
    {
     "name": "stdout",
     "output_type": "stream",
     "text": [
      "Loading IMDB dataset...\n",
      "Converting reviews to text...\n",
      "Vocabulary size: 9997\n",
      "Training data shape: (40000, 200)\n",
      "Validation data shape: (10000, 200)\n"
     ]
    }
   ],
   "source": [
    "# Load and preprocess the IMDB dataset\n",
    "max_features = 10000  # Size of vocabulary\n",
    "max_len = 200  # Maximum length of sequences\n",
    "\n",
    "X_train, X_val, y_train, y_val, tokenizer, raw_train_texts, raw_val_texts = load_imdb_dataset(\n",
    "    max_features=max_features, \n",
    "    max_len=max_len\n",
    ")"
   ]
  },
  {
   "cell_type": "markdown",
   "id": "2fe06635",
   "metadata": {},
   "source": [
    "## Explore the Dataset\n",
    "\n",
    "Let's examine a few examples from the dataset."
   ]
  },
  {
   "cell_type": "code",
   "execution_count": 5,
   "id": "516d59e6",
   "metadata": {},
   "outputs": [
    {
     "name": "stdout",
     "output_type": "stream",
     "text": [
      "Sample reviews from the dataset:\n",
      "Example 1 (Negative):\n",
      "<START> rose  does anything actually happen in this episode it introduces our two leads a slow witted <UNK> idiot of a doctor and an utterly un interesting companion there's no plot to speak of childish humour mixed with some extremely bad pacing and incidental music what else is there to say really br br the end of the world  a <UNK> improvement in that we see our first outer space scenario subsequently brought down by poor contemporary humour paper thin logic very poor pacing and tired sf cl...\n",
      "\n",
      "Example 2 (Positive):\n",
      "<START> i always believed that a film that's plot is <UNK> around a virtual reality video game never sounds as though it's going to be anything special but proved i couldn't have been more wrong this film is unbelievable and whilst highly entertaining offers so much more than that from start to finish this film has you to the point where you can have so many ideas you can not make a final conclusion david <UNK> has a talent for this as he does so many things br br is pure <UNK> the way it's writ...\n",
      "\n",
      "Example 3 (Negative):\n",
      "<START> truly awful nonsensical garbage this movie does everything wrong except make the running time under an hour the gore fx defy gravity logic there are no scares the acting is abysmal with everyone appearing to be reading their lines there's a surprise ending that's just silly where we find out that things we saw happen didn't even happen boy do i hate cop out endings they pad this thing out with long drawn out shots of people doing nothing interesting like putting on make up or talking for...\n",
      "\n"
     ]
    }
   ],
   "source": [
    "# Display a few example reviews with their sentiment labels\n",
    "def display_examples(texts, labels, num_examples=3):\n",
    "    for i in range(num_examples):\n",
    "        sentiment = \"Positive\" if labels[i] == 1 else \"Negative\"\n",
    "        print(f\"Example {i+1} ({sentiment}):\\n{texts[i][:500]}...\\n\")\n",
    "\n",
    "print(\"Sample reviews from the dataset:\")\n",
    "display_examples(raw_train_texts, y_train)"
   ]
  },
  {
   "cell_type": "markdown",
   "id": "483881cc",
   "metadata": {},
   "source": [
    "## Build the RNN Model\n",
    "\n",
    "Now we'll define our RNN model for sentiment analysis."
   ]
  },
  {
   "cell_type": "code",
   "execution_count": 6,
   "id": "dd22d1aa",
   "metadata": {},
   "outputs": [],
   "source": [
    "def create_rnn_model(vocab_size, embedding_dim=100, input_length=200, rnn_type='lstm'):\n",
    "    \"\"\"\n",
    "    Create a recurrent neural network model for sentiment analysis.\n",
    "    \n",
    "    Args:\n",
    "        vocab_size: Size of the vocabulary (number of unique words)\n",
    "        embedding_dim: Dimension of the embedding layer\n",
    "        input_length: Maximum length of input sequences\n",
    "        rnn_type: Type of RNN cell ('lstm' or 'gru')\n",
    "    \n",
    "    Returns:\n",
    "        A compiled Keras model\n",
    "    \"\"\"\n",
    "    model = Sequential()\n",
    "    \n",
    "    # Embedding layer\n",
    "    model.add(Embedding(vocab_size, embedding_dim, input_length=input_length))\n",
    "    \n",
    "    # RNN layer\n",
    "    if rnn_type.lower() == 'lstm':\n",
    "        model.add(Bidirectional(LSTM(64, return_sequences=True)))\n",
    "        model.add(Bidirectional(LSTM(32)))\n",
    "    elif rnn_type.lower() == 'gru':\n",
    "        model.add(Bidirectional(GRU(64, return_sequences=True)))\n",
    "        model.add(Bidirectional(GRU(32)))\n",
    "    else:\n",
    "        raise ValueError(f\"Unsupported RNN type: {rnn_type}\")\n",
    "    \n",
    "    # Dense layers\n",
    "    model.add(Dense(64, activation='relu'))\n",
    "    model.add(Dropout(0.5))\n",
    "    model.add(Dense(1, activation='sigmoid'))  # Binary classification\n",
    "    \n",
    "    # Compile model\n",
    "    model.compile(optimizer='adam',\n",
    "                  loss='binary_crossentropy',\n",
    "                  metrics=['accuracy'])\n",
    "    \n",
    "    return model"
   ]
  },
  {
   "cell_type": "code",
   "execution_count": 7,
   "id": "74b34960",
   "metadata": {},
   "outputs": [
    {
     "name": "stderr",
     "output_type": "stream",
     "text": [
      "c:\\Users\\Ahmed\\app\\sentiment_analysis\\sentiment_analysis\\Lib\\site-packages\\keras\\src\\layers\\core\\embedding.py:90: UserWarning: Argument `input_length` is deprecated. Just remove it.\n",
      "  warnings.warn(\n"
     ]
    },
    {
     "data": {
      "text/html": [
       "<pre style=\"white-space:pre;overflow-x:auto;line-height:normal;font-family:Menlo,'DejaVu Sans Mono',consolas,'Courier New',monospace\"><span style=\"font-weight: bold\">Model: \"sequential\"</span>\n",
       "</pre>\n"
      ],
      "text/plain": [
       "\u001b[1mModel: \"sequential\"\u001b[0m\n"
      ]
     },
     "metadata": {},
     "output_type": "display_data"
    },
    {
     "data": {
      "text/html": [
       "<pre style=\"white-space:pre;overflow-x:auto;line-height:normal;font-family:Menlo,'DejaVu Sans Mono',consolas,'Courier New',monospace\">┏━━━━━━━━━━━━━━━━━━━━━━━━━━━━━━━━━┳━━━━━━━━━━━━━━━━━━━━━━━━┳━━━━━━━━━━━━━━━┓\n",
       "┃<span style=\"font-weight: bold\"> Layer (type)                    </span>┃<span style=\"font-weight: bold\"> Output Shape           </span>┃<span style=\"font-weight: bold\">       Param # </span>┃\n",
       "┡━━━━━━━━━━━━━━━━━━━━━━━━━━━━━━━━━╇━━━━━━━━━━━━━━━━━━━━━━━━╇━━━━━━━━━━━━━━━┩\n",
       "│ embedding (<span style=\"color: #0087ff; text-decoration-color: #0087ff\">Embedding</span>)           │ ?                      │   <span style=\"color: #00af00; text-decoration-color: #00af00\">0</span> (unbuilt) │\n",
       "├─────────────────────────────────┼────────────────────────┼───────────────┤\n",
       "│ bidirectional (<span style=\"color: #0087ff; text-decoration-color: #0087ff\">Bidirectional</span>)   │ ?                      │   <span style=\"color: #00af00; text-decoration-color: #00af00\">0</span> (unbuilt) │\n",
       "├─────────────────────────────────┼────────────────────────┼───────────────┤\n",
       "│ bidirectional_1 (<span style=\"color: #0087ff; text-decoration-color: #0087ff\">Bidirectional</span>) │ ?                      │   <span style=\"color: #00af00; text-decoration-color: #00af00\">0</span> (unbuilt) │\n",
       "├─────────────────────────────────┼────────────────────────┼───────────────┤\n",
       "│ dense (<span style=\"color: #0087ff; text-decoration-color: #0087ff\">Dense</span>)                   │ ?                      │   <span style=\"color: #00af00; text-decoration-color: #00af00\">0</span> (unbuilt) │\n",
       "├─────────────────────────────────┼────────────────────────┼───────────────┤\n",
       "│ dropout (<span style=\"color: #0087ff; text-decoration-color: #0087ff\">Dropout</span>)               │ ?                      │             <span style=\"color: #00af00; text-decoration-color: #00af00\">0</span> │\n",
       "├─────────────────────────────────┼────────────────────────┼───────────────┤\n",
       "│ dense_1 (<span style=\"color: #0087ff; text-decoration-color: #0087ff\">Dense</span>)                 │ ?                      │   <span style=\"color: #00af00; text-decoration-color: #00af00\">0</span> (unbuilt) │\n",
       "└─────────────────────────────────┴────────────────────────┴───────────────┘\n",
       "</pre>\n"
      ],
      "text/plain": [
       "┏━━━━━━━━━━━━━━━━━━━━━━━━━━━━━━━━━┳━━━━━━━━━━━━━━━━━━━━━━━━┳━━━━━━━━━━━━━━━┓\n",
       "┃\u001b[1m \u001b[0m\u001b[1mLayer (type)                   \u001b[0m\u001b[1m \u001b[0m┃\u001b[1m \u001b[0m\u001b[1mOutput Shape          \u001b[0m\u001b[1m \u001b[0m┃\u001b[1m \u001b[0m\u001b[1m      Param #\u001b[0m\u001b[1m \u001b[0m┃\n",
       "┡━━━━━━━━━━━━━━━━━━━━━━━━━━━━━━━━━╇━━━━━━━━━━━━━━━━━━━━━━━━╇━━━━━━━━━━━━━━━┩\n",
       "│ embedding (\u001b[38;5;33mEmbedding\u001b[0m)           │ ?                      │   \u001b[38;5;34m0\u001b[0m (unbuilt) │\n",
       "├─────────────────────────────────┼────────────────────────┼───────────────┤\n",
       "│ bidirectional (\u001b[38;5;33mBidirectional\u001b[0m)   │ ?                      │   \u001b[38;5;34m0\u001b[0m (unbuilt) │\n",
       "├─────────────────────────────────┼────────────────────────┼───────────────┤\n",
       "│ bidirectional_1 (\u001b[38;5;33mBidirectional\u001b[0m) │ ?                      │   \u001b[38;5;34m0\u001b[0m (unbuilt) │\n",
       "├─────────────────────────────────┼────────────────────────┼───────────────┤\n",
       "│ dense (\u001b[38;5;33mDense\u001b[0m)                   │ ?                      │   \u001b[38;5;34m0\u001b[0m (unbuilt) │\n",
       "├─────────────────────────────────┼────────────────────────┼───────────────┤\n",
       "│ dropout (\u001b[38;5;33mDropout\u001b[0m)               │ ?                      │             \u001b[38;5;34m0\u001b[0m │\n",
       "├─────────────────────────────────┼────────────────────────┼───────────────┤\n",
       "│ dense_1 (\u001b[38;5;33mDense\u001b[0m)                 │ ?                      │   \u001b[38;5;34m0\u001b[0m (unbuilt) │\n",
       "└─────────────────────────────────┴────────────────────────┴───────────────┘\n"
      ]
     },
     "metadata": {},
     "output_type": "display_data"
    },
    {
     "data": {
      "text/html": [
       "<pre style=\"white-space:pre;overflow-x:auto;line-height:normal;font-family:Menlo,'DejaVu Sans Mono',consolas,'Courier New',monospace\"><span style=\"font-weight: bold\"> Total params: </span><span style=\"color: #00af00; text-decoration-color: #00af00\">0</span> (0.00 B)\n",
       "</pre>\n"
      ],
      "text/plain": [
       "\u001b[1m Total params: \u001b[0m\u001b[38;5;34m0\u001b[0m (0.00 B)\n"
      ]
     },
     "metadata": {},
     "output_type": "display_data"
    },
    {
     "data": {
      "text/html": [
       "<pre style=\"white-space:pre;overflow-x:auto;line-height:normal;font-family:Menlo,'DejaVu Sans Mono',consolas,'Courier New',monospace\"><span style=\"font-weight: bold\"> Trainable params: </span><span style=\"color: #00af00; text-decoration-color: #00af00\">0</span> (0.00 B)\n",
       "</pre>\n"
      ],
      "text/plain": [
       "\u001b[1m Trainable params: \u001b[0m\u001b[38;5;34m0\u001b[0m (0.00 B)\n"
      ]
     },
     "metadata": {},
     "output_type": "display_data"
    },
    {
     "data": {
      "text/html": [
       "<pre style=\"white-space:pre;overflow-x:auto;line-height:normal;font-family:Menlo,'DejaVu Sans Mono',consolas,'Courier New',monospace\"><span style=\"font-weight: bold\"> Non-trainable params: </span><span style=\"color: #00af00; text-decoration-color: #00af00\">0</span> (0.00 B)\n",
       "</pre>\n"
      ],
      "text/plain": [
       "\u001b[1m Non-trainable params: \u001b[0m\u001b[38;5;34m0\u001b[0m (0.00 B)\n"
      ]
     },
     "metadata": {},
     "output_type": "display_data"
    }
   ],
   "source": [
    "# Create and display the model architecture\n",
    "embedding_dim = 100\n",
    "rnn_type = 'lstm'  # Options: 'lstm' or 'gru'\n",
    "\n",
    "model = create_rnn_model(\n",
    "    vocab_size=max_features+1,  # +1 for padding token\n",
    "    embedding_dim=embedding_dim,\n",
    "    input_length=max_len,\n",
    "    rnn_type=rnn_type\n",
    ")\n",
    "\n",
    "model.summary()"
   ]
  },
  {
   "cell_type": "markdown",
   "id": "a4492cb4",
   "metadata": {},
   "source": [
    "## Train the Model\n",
    "\n",
    "Now we'll train our RNN model on the prepared dataset."
   ]
  },
  {
   "cell_type": "code",
   "execution_count": 8,
   "id": "4fe288db",
   "metadata": {},
   "outputs": [
    {
     "name": "stdout",
     "output_type": "stream",
     "text": [
      "Epoch 1/5\n",
      "\u001b[1m625/625\u001b[0m \u001b[32m━━━━━━━━━━━━━━━━━━━━\u001b[0m\u001b[37m\u001b[0m \u001b[1m0s\u001b[0m 204ms/step - accuracy: 0.7349 - loss: 0.4956"
     ]
    },
    {
     "name": "stderr",
     "output_type": "stream",
     "text": [
      "WARNING:absl:You are saving your model as an HDF5 file via `model.save()` or `keras.saving.save_model(model)`. This file format is considered legacy. We recommend using instead the native Keras format, e.g. `model.save('my_model.keras')` or `keras.saving.save_model(model, 'my_model.keras')`. \n"
     ]
    },
    {
     "name": "stdout",
     "output_type": "stream",
     "text": [
      "\u001b[1m625/625\u001b[0m \u001b[32m━━━━━━━━━━━━━━━━━━━━\u001b[0m\u001b[37m\u001b[0m \u001b[1m143s\u001b[0m 222ms/step - accuracy: 0.7351 - loss: 0.4955 - val_accuracy: 0.8811 - val_loss: 0.2797\n",
      "Epoch 2/5\n",
      "\u001b[1m  9/625\u001b[0m \u001b[37m━━━━━━━━━━━━━━━━━━━━\u001b[0m \u001b[1m2:09\u001b[0m 211ms/step - accuracy: 0.8831 - loss: 0.2656Epoch 2/5\n",
      "\u001b[1m625/625\u001b[0m \u001b[32m━━━━━━━━━━━━━━━━━━━━\u001b[0m\u001b[37m\u001b[0m \u001b[1m0s\u001b[0m 199ms/step - accuracy: 0.8961 - loss: 0.2672"
     ]
    },
    {
     "name": "stderr",
     "output_type": "stream",
     "text": [
      "WARNING:absl:You are saving your model as an HDF5 file via `model.save()` or `keras.saving.save_model(model)`. This file format is considered legacy. We recommend using instead the native Keras format, e.g. `model.save('my_model.keras')` or `keras.saving.save_model(model, 'my_model.keras')`. \n"
     ]
    },
    {
     "name": "stdout",
     "output_type": "stream",
     "text": [
      "\u001b[1m625/625\u001b[0m \u001b[32m━━━━━━━━━━━━━━━━━━━━\u001b[0m\u001b[37m\u001b[0m \u001b[1m136s\u001b[0m 217ms/step - accuracy: 0.8961 - loss: 0.2671 - val_accuracy: 0.8839 - val_loss: 0.3017\n",
      "Epoch 3/5\n",
      "Epoch 3/5\n",
      "\u001b[1m625/625\u001b[0m \u001b[32m━━━━━━━━━━━━━━━━━━━━\u001b[0m\u001b[37m\u001b[0m \u001b[1m0s\u001b[0m 216ms/step - accuracy: 0.9263 - loss: 0.2042"
     ]
    },
    {
     "name": "stderr",
     "output_type": "stream",
     "text": [
      "WARNING:absl:You are saving your model as an HDF5 file via `model.save()` or `keras.saving.save_model(model)`. This file format is considered legacy. We recommend using instead the native Keras format, e.g. `model.save('my_model.keras')` or `keras.saving.save_model(model, 'my_model.keras')`. \n"
     ]
    },
    {
     "name": "stdout",
     "output_type": "stream",
     "text": [
      "\u001b[1m625/625\u001b[0m \u001b[32m━━━━━━━━━━━━━━━━━━━━\u001b[0m\u001b[37m\u001b[0m \u001b[1m147s\u001b[0m 236ms/step - accuracy: 0.9263 - loss: 0.2041 - val_accuracy: 0.8850 - val_loss: 0.3191\n",
      "Epoch 4/5\n",
      "\u001b[1m  3/625\u001b[0m \u001b[37m━━━━━━━━━━━━━━━━━━━━\u001b[0m \u001b[1m2:37\u001b[0m 254ms/step - accuracy: 0.9627 - loss: 0.1117Epoch 4/5\n",
      "\u001b[1m625/625\u001b[0m \u001b[32m━━━━━━━━━━━━━━━━━━━━\u001b[0m\u001b[37m\u001b[0m \u001b[1m146s\u001b[0m 233ms/step - accuracy: 0.9441 - loss: 0.1579 - val_accuracy: 0.8769 - val_loss: 0.4177\n"
     ]
    }
   ],
   "source": [
    "# Set up training parameters\n",
    "batch_size = 64\n",
    "epochs = 5  # We'll use a small number of epochs for demonstration\n",
    "\n",
    "# Set up callbacks for early stopping and model checkpointing\n",
    "callbacks = [\n",
    "    EarlyStopping(monitor='val_loss', patience=3, restore_best_weights=True),\n",
    "    ModelCheckpoint('best_model.h5', monitor='val_accuracy', save_best_only=True, mode='max')\n",
    "]\n",
    "\n",
    "# Train the model\n",
    "history = model.fit(\n",
    "    X_train, y_train,\n",
    "    batch_size=batch_size,\n",
    "    epochs=epochs,\n",
    "    validation_data=(X_val, y_val),\n",
    "    callbacks=callbacks,\n",
    "    verbose=1\n",
    ")"
   ]
  },
  {
   "cell_type": "markdown",
   "id": "ff69ef93",
   "metadata": {},
   "source": [
    "## Evaluate the Model\n",
    "\n",
    "Let's visualize the training progress and evaluate the model performance."
   ]
  },
  {
   "cell_type": "code",
   "execution_count": 9,
   "id": "a61c944a",
   "metadata": {},
   "outputs": [
    {
     "data": {
      "image/png": "[encoded data removed]",
      "text/plain": [
       "<Figure size 1200x500 with 2 Axes>"
      ]
     },
     "metadata": {},
     "output_type": "display_data"
    }
   ],
   "source": [
    "# Plot training & validation accuracy and loss\n",
    "def plot_history(history):\n",
    "    plt.figure(figsize=(12, 5))\n",
    "    \n",
    "    # Plot accuracy\n",
    "    plt.subplot(1, 2, 1)\n",
    "    plt.plot(history.history['accuracy'])\n",
    "    plt.plot(history.history['val_accuracy'])\n",
    "    plt.title('Model Accuracy')\n",
    "    plt.ylabel('Accuracy')\n",
    "    plt.xlabel('Epoch')\n",
    "    plt.legend(['Train', 'Validation'], loc='lower right')\n",
    "    \n",
    "    # Plot loss\n",
    "    plt.subplot(1, 2, 2)\n",
    "    plt.plot(history.history['loss'])\n",
    "    plt.plot(history.history['val_loss'])\n",
    "    plt.title('Model Loss')\n",
    "    plt.ylabel('Loss')\n",
    "    plt.xlabel('Epoch')\n",
    "    plt.legend(['Train', 'Validation'], loc='upper right')\n",
    "    \n",
    "    plt.tight_layout()\n",
    "    plt.show()\n",
    "\n",
    "plot_history(history)"
   ]
  },
  {
   "cell_type": "code",
   "execution_count": 10,
   "id": "5fe74a7b",
   "metadata": {},
   "outputs": [
    {
     "name": "stdout",
     "output_type": "stream",
     "text": [
      "\u001b[1m313/313\u001b[0m \u001b[32m━━━━━━━━━━━━━━━━━━━━\u001b[0m\u001b[37m\u001b[0m \u001b[1m13s\u001b[0m 42ms/step - accuracy: 0.8804 - loss: 0.2803\n",
      "Validation Loss: 0.2797\n",
      "Validation Accuracy: 0.8811\n"
     ]
    }
   ],
   "source": [
    "# Evaluate the model on validation data\n",
    "val_loss, val_accuracy = model.evaluate(X_val, y_val)\n",
    "print(f\"Validation Loss: {val_loss:.4f}\")\n",
    "print(f\"Validation Accuracy: {val_accuracy:.4f}\")"
   ]
  },
  {
   "cell_type": "code",
   "execution_count": 11,
   "id": "4ba60d4f",
   "metadata": {},
   "outputs": [
    {
     "name": "stdout",
     "output_type": "stream",
     "text": [
      "\u001b[1m313/313\u001b[0m \u001b[32m━━━━━━━━━━━━━━━━━━━━\u001b[0m\u001b[37m\u001b[0m \u001b[1m14s\u001b[0m 43ms/step\n",
      "Classification Report:\n",
      "              precision    recall  f1-score   support\n",
      "\n",
      "           0       0.86      0.91      0.88      4912\n",
      "           1       0.91      0.85      0.88      5088\n",
      "\n",
      "    accuracy                           0.88     10000\n",
      "   macro avg       0.88      0.88      0.88     10000\n",
      "weighted avg       0.88      0.88      0.88     10000\n",
      "\n"
     ]
    },
    {
     "data": {
      "image/png": "[encoded data removed]",
      "text/plain": [
       "<Figure size 800x600 with 2 Axes>"
      ]
     },
     "metadata": {},
     "output_type": "display_data"
    }
   ],
   "source": [
    "# Make predictions on validation data\n",
    "y_pred_prob = model.predict(X_val)\n",
    "y_pred = (y_pred_prob > 0.5).astype(int).flatten()\n",
    "\n",
    "# Generate classification report\n",
    "print(\"Classification Report:\")\n",
    "print(classification_report(y_val, y_pred))\n",
    "\n",
    "# Generate confusion matrix\n",
    "cm = confusion_matrix(y_val, y_pred)\n",
    "plt.figure(figsize=(8, 6))\n",
    "sns.heatmap(cm, annot=True, fmt='d', cmap='Blues', \n",
    "            xticklabels=['Negative', 'Positive'],\n",
    "            yticklabels=['Negative', 'Positive'])\n",
    "plt.xlabel('Predicted Label')\n",
    "plt.ylabel('True Label')\n",
    "plt.title('Confusion Matrix')\n",
    "plt.show()"
   ]
  },
  {
   "cell_type": "markdown",
   "id": "5a3ef1d9",
   "metadata": {},
   "source": [
    "## Test with Custom Reviews\n",
    "\n",
    "Let's test our model with some custom reviews to see how it performs on new data."
   ]
  },
  {
   "cell_type": "code",
   "execution_count": 12,
   "id": "5d05f8dd",
   "metadata": {},
   "outputs": [],
   "source": [
    "def predict_sentiment(text, model, tokenizer, max_len=200):\n",
    "    \"\"\"\n",
    "    Predict sentiment of a text\n",
    "    \n",
    "    Args:\n",
    "        text: Text to analyze\n",
    "        model: Trained sentiment analysis model\n",
    "        tokenizer: Tokenizer used for training\n",
    "        max_len: Maximum sequence length\n",
    "    \n",
    "    Returns:\n",
    "        Sentiment prediction and score\n",
    "    \"\"\"\n",
    "    # Tokenize and pad the text\n",
    "    sequence = tokenizer.texts_to_sequences([text])\n",
    "    padded = pad_sequences(sequence, maxlen=max_len)\n",
    "    \n",
    "    # Get prediction\n",
    "    prediction = model.predict(padded)[0][0]\n",
    "    sentiment = 'Positive' if prediction >= 0.5 else 'Negative'\n",
    "    confidence = max(prediction, 1 - prediction) * 100\n",
    "    \n",
    "    return sentiment, prediction, confidence"
   ]
  },
  {
   "cell_type": "code",
   "execution_count": 13,
   "id": "d4149e3c",
   "metadata": {},
   "outputs": [
    {
     "name": "stdout",
     "output_type": "stream",
     "text": [
      "\u001b[1m1/1\u001b[0m \u001b[32m━━━━━━━━━━━━━━━━━━━━\u001b[0m\u001b[37m\u001b[0m \u001b[1m0s\u001b[0m 49ms/step\n",
      "\u001b[1m1/1\u001b[0m \u001b[32m━━━━━━━━━━━━━━━━━━━━\u001b[0m\u001b[37m\u001b[0m \u001b[1m0s\u001b[0m 49ms/step\n",
      "Review 1: This movie was absolutely terrible. I hated every minute of it.\n",
      "Sentiment: Negative\n",
      "Confidence: 92.59%\n",
      "Score: 0.0741 (0=Negative, 1=Positive)\n",
      "\n",
      "\u001b[1m1/1\u001b[0m \u001b[32m━━━━━━━━━━━━━━━━━━━━\u001b[0m\u001b[37m\u001b[0m \u001b[1m0s\u001b[0m 50ms/step\n",
      "Review 2: I really enjoyed this film, the acting was superb and the plot was engaging.\n",
      "Sentiment: Positive\n",
      "Confidence: 60.87%\n",
      "Score: 0.6087 (0=Negative, 1=Positive)\n",
      "\n",
      "\u001b[1m1/1\u001b[0m \u001b[32m━━━━━━━━━━━━━━━━━━━━\u001b[0m\u001b[37m\u001b[0m \u001b[1m0s\u001b[0m 55ms/step\n",
      "Review 3: The movie was okay, not great but not terrible either.\n",
      "Sentiment: Negative\n",
      "Confidence: 93.78%\n",
      "Score: 0.0622 (0=Negative, 1=Positive)\n",
      "\n",
      "\u001b[1m1/1\u001b[0m \u001b[32m━━━━━━━━━━━━━━━━━━━━\u001b[0m\u001b[37m\u001b[0m \u001b[1m0s\u001b[0m 57ms/step\n",
      "Review 4: The cinematography was beautiful, but the story didn't make any sense.\n",
      "Sentiment: Negative\n",
      "Confidence: 68.19%\n",
      "Score: 0.3181 (0=Negative, 1=Positive)\n",
      "\n"
     ]
    }
   ],
   "source": [
    "# Test with custom reviews\n",
    "test_reviews = [\n",
    "    \"This movie was absolutely terrible. I hated every minute of it.\",\n",
    "    \"I really enjoyed this film, the acting was superb and the plot was engaging.\",\n",
    "    \"The movie was okay, not great but not terrible either.\",\n",
    "    \"The cinematography was beautiful, but the story didn't make any sense.\"\n",
    "]\n",
    "\n",
    "for i, review in enumerate(test_reviews):\n",
    "    sentiment, score, confidence = predict_sentiment(review, model, tokenizer, max_len)\n",
    "    print(f\"Review {i+1}: {review}\")\n",
    "    print(f\"Sentiment: {sentiment}\")\n",
    "    print(f\"Confidence: {confidence:.2f}%\")\n",
    "    print(f\"Score: {score:.4f} (0=Negative, 1=Positive)\\n\")"
   ]
  },
  {
   "cell_type": "markdown",
   "id": "3c3cb180",
   "metadata": {},
   "source": [
    "## Save the Model\n",
    "\n",
    "Finally, let's save our trained model and tokenizer for later use."
   ]
  },
  {
   "cell_type": "code",
   "execution_count": 14,
   "id": "8ca2d4aa",
   "metadata": {},
   "outputs": [
    {
     "name": "stderr",
     "output_type": "stream",
     "text": [
      "WARNING:absl:You are saving your model as an HDF5 file via `model.save()` or `keras.saving.save_model(model)`. This file format is considered legacy. We recommend using instead the native Keras format, e.g. `model.save('my_model.keras')` or `keras.saving.save_model(model, 'my_model.keras')`. \n"
     ]
    },
    {
     "name": "stdout",
     "output_type": "stream",
     "text": [
      "Model saved as 'sentiment_model.h5'\n",
      "Tokenizer saved as 'tokenizer.pickle'\n"
     ]
    }
   ],
   "source": [
    "# Save model\n",
    "model.save('sentiment_model.h5')\n",
    "print(\"Model saved as 'sentiment_model.h5'\")\n",
    "\n",
    "# Save tokenizer\n",
    "import pickle\n",
    "with open('tokenizer.pickle', 'wb') as handle:\n",
    "    pickle.dump(tokenizer, handle, protocol=pickle.HIGHEST_PROTOCOL)\n",
    "print(\"Tokenizer saved as 'tokenizer.pickle'\")"
   ]
  },
  {
   "cell_type": "markdown",
   "id": "eb571b36",
   "metadata": {},
   "source": [
    "## Conclusion\n",
    "\n",
    "In this notebook, we've built a sentiment analysis model using a bidirectional RNN architecture. The model learns to classify text as positive or negative based on the language used. This is a fundamental task in natural language processing with many real-world applications.\n",
    "\n",
    "To improve this model further, you could try:\n",
    "- Using pre-trained word embeddings like GloVe or Word2Vec\n",
    "- Implementing an attention mechanism\n",
    "- Trying different model architectures (e.g., CNN, Transformer)\n",
    "- Applying more advanced text preprocessing techniques\n",
    "- Training on a larger or more diverse dataset"
   ]
  }
 ],
 "metadata": {
  "kernelspec": {
   "display_name": "sentiment_analysis",
   "language": "python",
   "name": "python3"
  },
  "language_info": {
   "codemirror_mode": {
    "name": "ipython",
    "version": 3
   },
   "file_extension": ".py",
   "mimetype": "text/x-python",
   "name": "python",
   "nbconvert_exporter": "python",
   "pygments_lexer": "ipython3",
   "version": "3.12.5"
  }
 },
 "nbformat": 4,
 "nbformat_minor": 5
}
